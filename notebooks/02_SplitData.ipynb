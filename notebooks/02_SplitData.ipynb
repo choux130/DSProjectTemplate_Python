{
 "cells": [
  {
   "cell_type": "markdown",
   "execution_count": null,
   "metadata": {},
   "outputs": [],
   "source": [
    "### Split Data into Train and Test dataset\n",
    "\n",
    "#### Input \n",
    "* winequality-red.csv\n",
    "\n",
    "#### Output\n",
    "* train.parquet\n",
    "* test.parquet"
   ]
  },
  {
   "cell_type": "code",
   "execution_count": 1,
   "metadata": {},
   "outputs": [],
   "source": [
    "# params \n",
    "random_seed = 123\n",
    "percent_train = 0.8"
   ]
  },
  {
   "cell_type": "code",
   "execution_count": 2,
   "metadata": {},
   "outputs": [],
   "source": [
    "import os\n",
    "import pandas as pd \n",
    "import pyarrow\n",
    "from sklearn.model_selection import train_test_split\n",
    "\n",
    "# file and directory info\n",
    "project_dir = os.path.dirname(os.getcwd())\n",
    "interim_folder = \"/data/interim/\"\n",
    "raw_folder = \"/data/raw/\"\n",
    "file_name = 'winequality-red.csv'\n",
    "var_y = 'quality'"
   ]
  },
  {
   "cell_type": "code",
   "execution_count": 3,
   "metadata": {},
   "outputs": [],
   "source": [
    "data = pd.read_csv(project_dir + raw_folder + file_name, error_bad_lines = False)\n",
    "train, test = train_test_split(data, train_size = 0.2, random_state = random_seed)"
   ]
  },
  {
   "cell_type": "code",
   "execution_count": 4,
   "metadata": {},
   "outputs": [],
   "source": [
    "train.to_parquet(project_dir + interim_folder + 'train.parquet')\n",
    "test.to_parquet(project_dir + interim_folder + 'test.parquet')"
   ]
  },
  {
   "cell_type": "code",
   "execution_count": 5,
   "metadata": {},
   "outputs": [
    {
     "name": "stdout",
     "output_type": "stream",
     "text": "(319, 12)\n"
    },
    {
     "data": {
      "text/html": "<div>\n<style scoped>\n    .dataframe tbody tr th:only-of-type {\n        vertical-align: middle;\n    }\n\n    .dataframe tbody tr th {\n        vertical-align: top;\n    }\n\n    .dataframe thead th {\n        text-align: right;\n    }\n</style>\n<table border=\"1\" class=\"dataframe\">\n  <thead>\n    <tr style=\"text-align: right;\">\n      <th></th>\n      <th>fixed acidity</th>\n      <th>volatile acidity</th>\n      <th>citric acid</th>\n      <th>residual sugar</th>\n      <th>chlorides</th>\n      <th>free sulfur dioxide</th>\n      <th>total sulfur dioxide</th>\n      <th>density</th>\n      <th>pH</th>\n      <th>sulphates</th>\n      <th>alcohol</th>\n      <th>quality</th>\n    </tr>\n  </thead>\n  <tbody>\n    <tr>\n      <th>1182</th>\n      <td>10.2</td>\n      <td>0.400</td>\n      <td>0.40</td>\n      <td>2.5</td>\n      <td>0.068</td>\n      <td>41.0</td>\n      <td>54.0</td>\n      <td>0.99754</td>\n      <td>3.38</td>\n      <td>0.86</td>\n      <td>10.5000</td>\n      <td>6</td>\n    </tr>\n    <tr>\n      <th>1326</th>\n      <td>6.7</td>\n      <td>0.460</td>\n      <td>0.24</td>\n      <td>1.7</td>\n      <td>0.077</td>\n      <td>18.0</td>\n      <td>34.0</td>\n      <td>0.99480</td>\n      <td>3.39</td>\n      <td>0.60</td>\n      <td>10.6000</td>\n      <td>6</td>\n    </tr>\n    <tr>\n      <th>439</th>\n      <td>7.0</td>\n      <td>0.620</td>\n      <td>0.18</td>\n      <td>1.5</td>\n      <td>0.062</td>\n      <td>7.0</td>\n      <td>50.0</td>\n      <td>0.99510</td>\n      <td>3.08</td>\n      <td>0.60</td>\n      <td>9.3000</td>\n      <td>5</td>\n    </tr>\n    <tr>\n      <th>1168</th>\n      <td>6.5</td>\n      <td>0.340</td>\n      <td>0.27</td>\n      <td>2.8</td>\n      <td>0.067</td>\n      <td>8.0</td>\n      <td>44.0</td>\n      <td>0.99384</td>\n      <td>3.21</td>\n      <td>0.56</td>\n      <td>12.0000</td>\n      <td>6</td>\n    </tr>\n    <tr>\n      <th>405</th>\n      <td>8.7</td>\n      <td>0.310</td>\n      <td>0.46</td>\n      <td>1.4</td>\n      <td>0.059</td>\n      <td>11.0</td>\n      <td>25.0</td>\n      <td>0.99660</td>\n      <td>3.36</td>\n      <td>0.76</td>\n      <td>10.1000</td>\n      <td>6</td>\n    </tr>\n    <tr>\n      <th>593</th>\n      <td>9.9</td>\n      <td>0.490</td>\n      <td>0.58</td>\n      <td>3.5</td>\n      <td>0.094</td>\n      <td>9.0</td>\n      <td>43.0</td>\n      <td>1.00040</td>\n      <td>3.29</td>\n      <td>0.58</td>\n      <td>9.0000</td>\n      <td>5</td>\n    </tr>\n    <tr>\n      <th>1476</th>\n      <td>9.9</td>\n      <td>0.500</td>\n      <td>0.50</td>\n      <td>13.8</td>\n      <td>0.205</td>\n      <td>48.0</td>\n      <td>82.0</td>\n      <td>1.00242</td>\n      <td>3.16</td>\n      <td>0.75</td>\n      <td>8.8000</td>\n      <td>5</td>\n    </tr>\n    <tr>\n      <th>1359</th>\n      <td>11.6</td>\n      <td>0.475</td>\n      <td>0.40</td>\n      <td>1.4</td>\n      <td>0.091</td>\n      <td>6.0</td>\n      <td>28.0</td>\n      <td>0.99704</td>\n      <td>3.07</td>\n      <td>0.65</td>\n      <td>10.0333</td>\n      <td>6</td>\n    </tr>\n    <tr>\n      <th>477</th>\n      <td>10.4</td>\n      <td>0.240</td>\n      <td>0.49</td>\n      <td>1.8</td>\n      <td>0.075</td>\n      <td>6.0</td>\n      <td>20.0</td>\n      <td>0.99770</td>\n      <td>3.18</td>\n      <td>1.06</td>\n      <td>11.0000</td>\n      <td>6</td>\n    </tr>\n    <tr>\n      <th>1333</th>\n      <td>9.1</td>\n      <td>0.775</td>\n      <td>0.22</td>\n      <td>2.2</td>\n      <td>0.079</td>\n      <td>12.0</td>\n      <td>48.0</td>\n      <td>0.99760</td>\n      <td>3.18</td>\n      <td>0.51</td>\n      <td>9.6000</td>\n      <td>5</td>\n    </tr>\n  </tbody>\n</table>\n</div>",
      "text/plain": "      fixed acidity  volatile acidity  citric acid  residual sugar  chlorides  \\\n1182           10.2             0.400         0.40             2.5      0.068   \n1326            6.7             0.460         0.24             1.7      0.077   \n439             7.0             0.620         0.18             1.5      0.062   \n1168            6.5             0.340         0.27             2.8      0.067   \n405             8.7             0.310         0.46             1.4      0.059   \n593             9.9             0.490         0.58             3.5      0.094   \n1476            9.9             0.500         0.50            13.8      0.205   \n1359           11.6             0.475         0.40             1.4      0.091   \n477            10.4             0.240         0.49             1.8      0.075   \n1333            9.1             0.775         0.22             2.2      0.079   \n\n      free sulfur dioxide  total sulfur dioxide  density    pH  sulphates  \\\n1182                 41.0                  54.0  0.99754  3.38       0.86   \n1326                 18.0                  34.0  0.99480  3.39       0.60   \n439                   7.0                  50.0  0.99510  3.08       0.60   \n1168                  8.0                  44.0  0.99384  3.21       0.56   \n405                  11.0                  25.0  0.99660  3.36       0.76   \n593                   9.0                  43.0  1.00040  3.29       0.58   \n1476                 48.0                  82.0  1.00242  3.16       0.75   \n1359                  6.0                  28.0  0.99704  3.07       0.65   \n477                   6.0                  20.0  0.99770  3.18       1.06   \n1333                 12.0                  48.0  0.99760  3.18       0.51   \n\n      alcohol  quality  \n1182  10.5000        6  \n1326  10.6000        6  \n439    9.3000        5  \n1168  12.0000        6  \n405   10.1000        6  \n593    9.0000        5  \n1476   8.8000        5  \n1359  10.0333        6  \n477   11.0000        6  \n1333   9.6000        5  "
     },
     "execution_count": 5,
     "metadata": {},
     "output_type": "execute_result"
    }
   ],
   "source": [
    "print(train.shape)\n",
    "train.head(10)"
   ]
  },
  {
   "cell_type": "code",
   "execution_count": 6,
   "metadata": {},
   "outputs": [
    {
     "name": "stdout",
     "output_type": "stream",
     "text": "(1280, 12)\n"
    },
    {
     "data": {
      "text/html": "<div>\n<style scoped>\n    .dataframe tbody tr th:only-of-type {\n        vertical-align: middle;\n    }\n\n    .dataframe tbody tr th {\n        vertical-align: top;\n    }\n\n    .dataframe thead th {\n        text-align: right;\n    }\n</style>\n<table border=\"1\" class=\"dataframe\">\n  <thead>\n    <tr style=\"text-align: right;\">\n      <th></th>\n      <th>fixed acidity</th>\n      <th>volatile acidity</th>\n      <th>citric acid</th>\n      <th>residual sugar</th>\n      <th>chlorides</th>\n      <th>free sulfur dioxide</th>\n      <th>total sulfur dioxide</th>\n      <th>density</th>\n      <th>pH</th>\n      <th>sulphates</th>\n      <th>alcohol</th>\n      <th>quality</th>\n    </tr>\n  </thead>\n  <tbody>\n    <tr>\n      <th>1182</th>\n      <td>10.2</td>\n      <td>0.400</td>\n      <td>0.40</td>\n      <td>2.5</td>\n      <td>0.068</td>\n      <td>41.0</td>\n      <td>54.0</td>\n      <td>0.99754</td>\n      <td>3.38</td>\n      <td>0.86</td>\n      <td>10.5000</td>\n      <td>6</td>\n    </tr>\n    <tr>\n      <th>1326</th>\n      <td>6.7</td>\n      <td>0.460</td>\n      <td>0.24</td>\n      <td>1.7</td>\n      <td>0.077</td>\n      <td>18.0</td>\n      <td>34.0</td>\n      <td>0.99480</td>\n      <td>3.39</td>\n      <td>0.60</td>\n      <td>10.6000</td>\n      <td>6</td>\n    </tr>\n    <tr>\n      <th>439</th>\n      <td>7.0</td>\n      <td>0.620</td>\n      <td>0.18</td>\n      <td>1.5</td>\n      <td>0.062</td>\n      <td>7.0</td>\n      <td>50.0</td>\n      <td>0.99510</td>\n      <td>3.08</td>\n      <td>0.60</td>\n      <td>9.3000</td>\n      <td>5</td>\n    </tr>\n    <tr>\n      <th>1168</th>\n      <td>6.5</td>\n      <td>0.340</td>\n      <td>0.27</td>\n      <td>2.8</td>\n      <td>0.067</td>\n      <td>8.0</td>\n      <td>44.0</td>\n      <td>0.99384</td>\n      <td>3.21</td>\n      <td>0.56</td>\n      <td>12.0000</td>\n      <td>6</td>\n    </tr>\n    <tr>\n      <th>405</th>\n      <td>8.7</td>\n      <td>0.310</td>\n      <td>0.46</td>\n      <td>1.4</td>\n      <td>0.059</td>\n      <td>11.0</td>\n      <td>25.0</td>\n      <td>0.99660</td>\n      <td>3.36</td>\n      <td>0.76</td>\n      <td>10.1000</td>\n      <td>6</td>\n    </tr>\n    <tr>\n      <th>593</th>\n      <td>9.9</td>\n      <td>0.490</td>\n      <td>0.58</td>\n      <td>3.5</td>\n      <td>0.094</td>\n      <td>9.0</td>\n      <td>43.0</td>\n      <td>1.00040</td>\n      <td>3.29</td>\n      <td>0.58</td>\n      <td>9.0000</td>\n      <td>5</td>\n    </tr>\n    <tr>\n      <th>1476</th>\n      <td>9.9</td>\n      <td>0.500</td>\n      <td>0.50</td>\n      <td>13.8</td>\n      <td>0.205</td>\n      <td>48.0</td>\n      <td>82.0</td>\n      <td>1.00242</td>\n      <td>3.16</td>\n      <td>0.75</td>\n      <td>8.8000</td>\n      <td>5</td>\n    </tr>\n    <tr>\n      <th>1359</th>\n      <td>11.6</td>\n      <td>0.475</td>\n      <td>0.40</td>\n      <td>1.4</td>\n      <td>0.091</td>\n      <td>6.0</td>\n      <td>28.0</td>\n      <td>0.99704</td>\n      <td>3.07</td>\n      <td>0.65</td>\n      <td>10.0333</td>\n      <td>6</td>\n    </tr>\n    <tr>\n      <th>477</th>\n      <td>10.4</td>\n      <td>0.240</td>\n      <td>0.49</td>\n      <td>1.8</td>\n      <td>0.075</td>\n      <td>6.0</td>\n      <td>20.0</td>\n      <td>0.99770</td>\n      <td>3.18</td>\n      <td>1.06</td>\n      <td>11.0000</td>\n      <td>6</td>\n    </tr>\n    <tr>\n      <th>1333</th>\n      <td>9.1</td>\n      <td>0.775</td>\n      <td>0.22</td>\n      <td>2.2</td>\n      <td>0.079</td>\n      <td>12.0</td>\n      <td>48.0</td>\n      <td>0.99760</td>\n      <td>3.18</td>\n      <td>0.51</td>\n      <td>9.6000</td>\n      <td>5</td>\n    </tr>\n  </tbody>\n</table>\n</div>",
      "text/plain": "      fixed acidity  volatile acidity  citric acid  residual sugar  chlorides  \\\n1182           10.2             0.400         0.40             2.5      0.068   \n1326            6.7             0.460         0.24             1.7      0.077   \n439             7.0             0.620         0.18             1.5      0.062   \n1168            6.5             0.340         0.27             2.8      0.067   \n405             8.7             0.310         0.46             1.4      0.059   \n593             9.9             0.490         0.58             3.5      0.094   \n1476            9.9             0.500         0.50            13.8      0.205   \n1359           11.6             0.475         0.40             1.4      0.091   \n477            10.4             0.240         0.49             1.8      0.075   \n1333            9.1             0.775         0.22             2.2      0.079   \n\n      free sulfur dioxide  total sulfur dioxide  density    pH  sulphates  \\\n1182                 41.0                  54.0  0.99754  3.38       0.86   \n1326                 18.0                  34.0  0.99480  3.39       0.60   \n439                   7.0                  50.0  0.99510  3.08       0.60   \n1168                  8.0                  44.0  0.99384  3.21       0.56   \n405                  11.0                  25.0  0.99660  3.36       0.76   \n593                   9.0                  43.0  1.00040  3.29       0.58   \n1476                 48.0                  82.0  1.00242  3.16       0.75   \n1359                  6.0                  28.0  0.99704  3.07       0.65   \n477                   6.0                  20.0  0.99770  3.18       1.06   \n1333                 12.0                  48.0  0.99760  3.18       0.51   \n\n      alcohol  quality  \n1182  10.5000        6  \n1326  10.6000        6  \n439    9.3000        5  \n1168  12.0000        6  \n405   10.1000        6  \n593    9.0000        5  \n1476   8.8000        5  \n1359  10.0333        6  \n477   11.0000        6  \n1333   9.6000        5  "
     },
     "execution_count": 6,
     "metadata": {},
     "output_type": "execute_result"
    }
   ],
   "source": [
    "print(test.shape)\n",
    "train.head(10)"
   ]
  }
 ],
 "metadata": {
  "kernelspec": {
   "display_name": "python3 (template_python)",
   "language": "R",
   "name": "template_python"
  },
  "language_info": {
   "codemirror_mode": "r",
   "file_extension": ".r",
   "mimetype": "text/x-r-source",
   "name": "R",
   "pygments_lexer": "r",
   "version": "3.7.6-final"
  }
 },
 "nbformat": 4,
 "nbformat_minor": 4
}