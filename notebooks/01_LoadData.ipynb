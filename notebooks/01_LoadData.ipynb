{
 "cells": [
  {
   "cell_type": "markdown",
   "execution_count": null,
   "metadata": {},
   "outputs": [],
   "source": [
    "### Load Data from URL\n",
    "\n",
    "#### Output\n",
    "* winequality-red.csv"
   ]
  },
  {
   "cell_type": "markdown",
   "execution_count": null,
   "metadata": {},
   "outputs": [],
   "source": [
    "### Azure Blob Storage"
   ]
  },
  {
   "cell_type": "code",
   "execution_count": null,
   "metadata": {},
   "outputs": [],
   "source": [
    "import os\n",
    "from azure.storage.blob import BlockBlobService"
   ]
  },
  {
   "cell_type": "code",
   "execution_count": null,
   "metadata": {},
   "outputs": [],
   "source": [
    "# azure credentials\n",
    "# make sure the credentials are saved as environment variables.\n",
    "os.environ[\"AZURE_STORAGE_CONNECTION_STRING\"] = 'xxx'\n",
    "connect_str = os.getenv('AZURE_STORAGE_CONNECTION_STRING')\n",
    "# print(connect_str)\n",
    "\n",
    "# file and directory info\n",
    "container_name = 'datascience-data' \n",
    "file_name = 'winequality-red.csv'\n",
    "project_dir = os.path.dirname(os.getcwd())\n",
    "final_file_dir = os.path.join(project_dir, 'data/raw', file_name)\n",
    "\n",
    "# for azure.storage.blob 2.1.0\n",
    "blob = BlockBlobService(connection_string=connect_str)\n",
    "blob.get_blob_to_path(container_name, \n",
    "                      file_name, \n",
    "                      final_file_dir)"
   ]
  },
  {
   "cell_type": "markdown",
   "execution_count": null,
   "metadata": {},
   "outputs": [],
   "source": [
    "### URL"
   ]
  },
  {
   "cell_type": "code",
   "execution_count": null,
   "metadata": {},
   "outputs": [],
   "source": [
    "# import os\n",
    "# import pandas as pd"
   ]
  },
  {
   "cell_type": "code",
   "execution_count": null,
   "metadata": {},
   "outputs": [],
   "source": [
    "# csv_url = 'https://raw.githubusercontent.com/choux130/Wine-Quality-Dataset/master/winequality-red.csv'\n",
    "# data = pd.read_csv(csv_url, error_bad_lines = False)\n",
    "\n",
    "# # file and directory info\n",
    "# file_name = 'winequality-red.csv'\n",
    "# project_dir = os.path.dirname(os.getcwd())\n",
    "\n",
    "# # save the file to the assigned directory\n",
    "# final_file_dir = os.path.join(project_dir, 'data/raw', file_name)\n",
    "# data.to_csv(final_file_dir, index=None, header=True, float_format='%g')"
   ]
  }
 ],
 "metadata": {
  "jupytext": {
   "formats": "ipynb,auto:light"
  },
  "kernelspec": {
   "display_name": "python3 (template_python)",
   "language": "python",
   "name": "template_python"
  },
  "language_info": {
   "codemirror_mode": {
    "name": "ipython",
    "version": 3
   },
   "file_extension": ".py",
   "mimetype": "text/x-python",
   "name": "python",
   "nbconvert_exporter": "python",
   "pygments_lexer": "ipython3",
   "version": "3.7.6-final"
  }
 },
 "nbformat": 4,
 "nbformat_minor": 4
}