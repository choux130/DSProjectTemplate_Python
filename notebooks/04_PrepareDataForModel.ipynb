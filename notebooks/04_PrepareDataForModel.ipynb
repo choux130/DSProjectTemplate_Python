{
 "cells": [
  {
   "cell_type": "markdown",
   "metadata": {},
   "source": [
    "### Prepare Data for Model \n",
    "\n",
    "* Convert data to the format that the model can consume. This preparation process should be consistent for train, test and prediction dataset. \n",
    "\n",
    "#### Input\n",
    "* train.parquet\n",
    "* test.parquet\n",
    "* preprocessor.pkl\n",
    "\n",
    "#### Output\n",
    "* train_X.parquet\n",
    "* train_Y.parquet\n",
    "* test_X.parquet\n",
    "* test_Y.parquet"
   ]
  },
  {
   "cell_type": "code",
   "execution_count": 1,
   "metadata": {},
   "outputs": [],
   "source": [
    "import os\n",
    "import pandas as pd\n",
    "import pyarrow \n",
    "import cloudpickle\n",
    "from sklearn.preprocessing import StandardScaler, MinMaxScaler\n",
    "\n",
    "project_dir = os.path.dirname(os.getcwd())\n",
    "interim_folder = \"/data/interim/\"\n",
    "processed_folder = \"/data/processed/\"\n",
    "var_y = 'quality'\n",
    "\n",
    "train = pd.read_parquet(project_dir + interim_folder + 'train.parquet')\n",
    "test = pd.read_parquet(project_dir + interim_folder + 'test.parquet')\n",
    "\n",
    "with open(project_dir + processed_folder + 'preprocessor_X.pkl', 'rb') as f:\n",
    "            preprocessor_X = cloudpickle.load(f)\n",
    "with open(project_dir + processed_folder + 'preprocessor_Y.pkl', 'rb') as f:\n",
    "            preprocessor_Y = cloudpickle.load(f)\n",
    "\n",
    "train_X_untransformed = train.drop([var_y], axis=1)\n",
    "train_Y_untransformed = train[var_y].to_frame()\n",
    "test_X_untransformed = test.drop([var_y], axis=1)\n",
    "test_Y_untransformed = test[var_y].to_frame()\n",
    "\n",
    "train_X = pd.DataFrame(preprocessor_X.transform(train_X_untransformed), columns = train_X_untransformed.columns)\n",
    "train_Y = pd.DataFrame(preprocessor_Y.transform(train_Y_untransformed), columns = train_Y_untransformed.columns)\n",
    "test_X = pd.DataFrame(preprocessor_X.transform(test_X_untransformed), columns = test_X_untransformed.columns)\n",
    "test_Y = pd.DataFrame(preprocessor_Y.transform(test_Y_untransformed), columns = test_Y_untransformed.columns)\n",
    "\n",
    "train_X.to_parquet(project_dir + interim_folder + 'train_X.parquet')\n",
    "train_Y.to_parquet(project_dir + interim_folder + 'train_Y.parquet')\n",
    "test_X.to_parquet(project_dir + interim_folder + 'test_X.parquet')\n",
    "test_Y.to_parquet(project_dir + interim_folder + 'test_Y.parquet')"
   ]
  },
  {
   "cell_type": "code",
   "execution_count": 2,
   "metadata": {},
   "outputs": [
    {
     "name": "stdout",
     "output_type": "stream",
     "text": "(319, 11)\n   fixed acidity  volatile acidity  citric acid  residual sugar  chlorides  \\\n0       0.998629         -0.641701     0.642453       -0.052631  -0.375638   \n1      -0.972326         -0.306215    -0.194047       -0.531471  -0.174621   \n2      -0.803387          0.588416    -0.507735       -0.651181  -0.509649   \n3      -1.084952         -0.977188    -0.037203        0.126934  -0.397973   \n4       0.153934         -1.144931     0.956141       -0.711036  -0.576655   \n\n   free sulfur dioxide  total sulfur dioxide   density        pH  sulphates  \\\n0             2.480130              0.297186  0.378143  0.556825   1.065540   \n1             0.227783             -0.368677 -0.984600  0.624908  -0.384672   \n2            -0.849427              0.164013 -0.835394 -1.485650  -0.384672   \n3            -0.751499             -0.035746 -1.462057 -0.600577  -0.607781   \n4            -0.457714             -0.668316 -0.089367  0.420660   0.507766   \n\n    alcohol  \n0  0.084631  \n1  0.177994  \n2 -1.035720  \n3  1.485071  \n4 -0.288819  \n   quality\n0      0.6\n1      0.6\n2      0.4\n3      0.6\n4      0.6\n"
    }
   ],
   "source": [
    "print(train_X.shape)\n",
    "print(train_X.head(5))\n",
    "print(train_Y.head(5))"
   ]
  },
  {
   "cell_type": "code",
   "execution_count": 3,
   "metadata": {},
   "outputs": [
    {
     "name": "stdout",
     "output_type": "stream",
     "text": "(1280, 11)\n   fixed acidity  volatile acidity  citric acid  residual sugar  chlorides  \\\n0       0.886003         -0.306215     0.851578        0.186789  -0.442643   \n1       0.604438          0.308844    -0.037203       -0.172341  -0.062945   \n2      -0.634448          2.209934    -0.925985       -0.471616  -0.241626   \n3      -0.127631         -1.592246     0.747016       -0.411761  -0.353303   \n4      -0.296570         -0.809444    -0.246328       -0.471616  -0.174621   \n\n   free sulfur dioxide  total sulfur dioxide   density        pH  sulphates  \\\n0            -1.143211             -1.234299 -0.019738  0.216413  -0.273117   \n1             0.717423              3.293569  0.517401 -0.192082  -0.663558   \n2             0.423639              0.363772 -0.029685  0.352578  -0.607781   \n3            -0.653571             -0.934661 -1.501845 -0.600577  -0.719336   \n4             0.717423              0.130720 -0.238573 -0.124000   0.005770   \n\n    alcohol  \n0  1.671796  \n1 -0.942358  \n2 -1.129083  \n3  1.765159  \n4 -1.035720  \n   quality\n0      0.6\n1      0.4\n2      0.4\n3      0.6\n4      0.4\n"
    }
   ],
   "source": [
    "print(test_X.shape)\n",
    "print(test_X.head(5))\n",
    "print(test_Y.head(5))"
   ]
  }
 ],
 "metadata": {
  "kernelspec": {
   "display_name": "python3 (template_python)",
   "language": "R",
   "name": "template_python"
  },
  "language_info": {
   "codemirror_mode": "r",
   "file_extension": ".r",
   "mimetype": "text/x-r-source",
   "name": "R",
   "pygments_lexer": "r",
   "version": "3.7.6-final"
  }
 },
 "nbformat": 4,
 "nbformat_minor": 4
}