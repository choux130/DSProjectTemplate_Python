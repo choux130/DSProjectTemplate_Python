{
 "cells": [
  {
   "cell_type": "markdown",
   "metadata": {},
   "source": [
    "### Predict using API"
   ]
  },
  {
   "cell_type": "code",
   "execution_count": 1,
   "metadata": {},
   "outputs": [
    {
     "data": {
      "text/plain": "['2020/03/02 10:12:12 INFO mlflow.projects: === Building docker image ds_project ===',\n \"2020/03/02 10:12:19 INFO mlflow.projects: === Created directory /var/folders/35/dhbynsm93yqby1n8ssdp71qh0000gn/T/tmpq_07voxz for downloading remote URIs passed to arguments of type 'path' ===\",\n \"2020/03/02 10:12:19 INFO mlflow.projects: === Running command 'docker run --rm -v /Users/chou/Desktop/mlflow_dvc_cookiecutter/DSProjectTemplate_Python/notebooks/mlruns:/mlflow/tmp/mlruns -v /Users/chou/Desktop/mlflow_dvc_cookiecutter/DSProjectTemplate_Python/notebooks/mlruns/0/7bc3814d08e84e208935a1d7251d4a87/artifacts:/Users/chou/Desktop/mlflow_dvc_cookiecutter/DSProjectTemplate_Python/notebooks/mlruns/0/7bc3814d08e84e208935a1d7251d4a87/artifacts -e MLFLOW_RUN_ID=7bc3814d08e84e208935a1d7251d4a87 -e MLFLOW_TRACKING_URI=file:///mlflow/tmp/mlruns -e MLFLOW_EXPERIMENT_ID=0 ds_project:latest python code/a05_Train.py --random_seed 123 --percent_train 0.8 --method median --criterion mse --max_depth 50' in run with ID '7bc3814d08e84e208935a1d7251d4a87' === \",\n 'run: python /mlflow/projects/code/code/a01_LoadData.py',\n 'run: python /mlflow/projects/code/code/a02_SplitData.py --random_seed 123 --percent_train 0.8',\n 'run: python /mlflow/projects/code/code/a03_CreateEncoder.py --method median',\n 'run: python /mlflow/projects/code/code/a04_PrepareDataForModel.py',\n 'MLFLOW_TRACKING_URI = file:///mlflow/tmp/mlruns',\n 'run_id: 7bc3814d08e84e208935a1d7251d4a87',\n 'DecisionTreeRegressor model (criterion=mse, max_depth=50.000000):',\n '  Explained Variance Score : 0.4980877718789979',\n '  MSE: 0.013348250000000015',\n \"2020/03/02 10:12:45 INFO mlflow.projects: === Run (ID '7bc3814d08e84e208935a1d7251d4a87') succeeded ===\"]"
     },
     "execution_count": 1,
     "metadata": {},
     "output_type": "execute_result"
    }
   ],
   "source": [
    "##### In terminal ===================================================================================================\n",
    "# # train a model\n",
    "# !! python ../code/a05_Train.py \n",
    "# # or, but have to create the base image \"ds_project_template\" first\n",
    "!! mlflow run ../../DSProjectTemplate_Python"
   ]
  },
  {
   "cell_type": "markdown",
   "metadata": {},
   "source": [
    "### Host locally"
   ]
  },
  {
   "cell_type": "code",
   "execution_count": null,
   "metadata": {},
   "outputs": [],
   "source": [
    "##### In terminal ===================================================================================================\n",
    "# # serve the model locally with port 7000, the path for the model can be in Azure blob storage or local path\n",
    "# don't run in Notebook since it will never end.\n",
    "# mlflow models serve -m < path to the > -p 7000"
   ]
  },
  {
   "cell_type": "code",
   "execution_count": 2,
   "metadata": {},
   "outputs": [
    {
     "data": {
      "text/plain": "['  % Total    % Received % Xferd  Average Speed   Time    Time     Time  Current',\n '                                 Dload  Upload   Total   Spent    Left  Speed',\n '',\n '  0     0    0     0    0     0      0      0 --:--:-- --:--:-- --:--:--     0',\n '100   233  100     8  100   225     94   2647 --:--:-- --:--:-- --:--:--  2741',\n '[[4.11]]']"
     },
     "execution_count": 2,
     "metadata": {},
     "output_type": "execute_result"
    }
   ],
   "source": [
    "# # get prediction using POST\n",
    "!! curl http://127.0.0.1:7000/invocations -H \"Content-Type:application/json; format=pandas-split\" --data '{\"columns\":[\"alcohol\", \"chlorides\", \"citric acid\", \"density\", \"fixed acidity\", \"free sulfur dioxide\", \"pH\", \"residual sugar\", \"sulphates\", \"total sulfur dioxide\", \"volatile acidity\"],\"data\":[[1,1, 1, 1, 1, 1, 1, 1, 1, 1, 1]]}'"
   ]
  },
  {
   "cell_type": "markdown",
   "metadata": {},
   "source": [
    "### Host in Azure ML"
   ]
  },
  {
   "cell_type": "code",
   "execution_count": null,
   "metadata": {},
   "outputs": [],
   "source": [
    "##### In terminal ===================================================================================================\n",
    "# # create image in the Azure ML\n",
    "# mlflow azureml build-image -w <workspace-name> -m <model-path> -d \"Wine regression model 1\""
   ]
  },
  {
   "cell_type": "code",
   "execution_count": null,
   "metadata": {},
   "outputs": [],
   "source": [
    "##### In terminal ===================================================================================================\n",
    "# # this command is deprecated in the most recent version. but we can go to Azure protal and deploy the image by clicking\n",
    "# az ml service create aci -n <deployment-name> --image-id <image-name>:<image-version>"
   ]
  },
  {
   "cell_type": "code",
   "execution_count": 3,
   "metadata": {},
   "outputs": [
    {
     "data": {
      "text/plain": "['  % Total    % Received % Xferd  Average Speed   Time    Time     Time  Current',\n '                                 Dload  Upload   Total   Spent    Left  Speed',\n '',\n '  0     0    0     0    0     0      0      0 --:--:-- --:--:-- --:--:--     0',\n '100   225    0     0  100   225      0    163  0:00:01  0:00:01 --:--:--   163',\n '100   225    0     0  100   225      0     94  0:00:02  0:00:02 --:--:--    94',\n '100   225    0     0  100   225      0     66  0:00:03  0:00:03 --:--:--    66',\n '100   225    0     0  100   225      0     51  0:00:04  0:00:04 --:--:--    51',\n '100   225    0     0  100   225      0     41  0:00:05  0:00:05 --:--:--    41',\n '100   225    0     0  100   225      0     35  0:00:06  0:00:06 --:--:--     0',\n '100   225    0     0  100   225      0     30  0:00:07  0:00:07 --:--:--     0',\n '100   225    0     0  100   225      0     26  0:00:08  0:00:08 --:--:--     0',\n '100   225    0     0  100   225      0     23  0:00:09  0:00:09 --:--:--     0',\n '100   231    0     6  100   225      0     22  0:00:10  0:00:09  0:00:01     1',\n '100   231    0     6  100   225      0     22  0:00:10  0:00:09  0:00:01     1',\n '[5.09]']"
     },
     "execution_count": 3,
     "metadata": {},
     "output_type": "execute_result"
    }
   ],
   "source": [
    "# # get prediction using POST\n",
    "# don't run in company internet or wifi, it will be blocked\n",
    "!! curl <Scoring URI> -H \"Content-Type:application/json; format=pandas-split\" --data '{\"columns\":[\"alcohol\", \"chlorides\", \"citric acid\", \"density\", \"fixed acidity\", \"free sulfur dioxide\", \"pH\", \"residual sugar\", \"sulphates\", \"total sulfur dioxide\", \"volatile acidity\"],\"data\":[[1,1, 1, 1, 1, 1, 1, 1, 1, 1, 1]]}'"
   ]
  }
 ],
 "metadata": {
  "kernelspec": {
   "display_name": "python3 (template_python)",
   "language": "python",
   "name": "template_python"
  },
  "language_info": {
   "codemirror_mode": {
    "name": "ipython",
    "version": 3
   },
   "file_extension": ".py",
   "mimetype": "text/x-python",
   "name": "python",
   "nbconvert_exporter": "python",
   "pygments_lexer": "ipython3",
   "version": "3.7.6-final"
  }
 },
 "nbformat": 4,
 "nbformat_minor": 4
}