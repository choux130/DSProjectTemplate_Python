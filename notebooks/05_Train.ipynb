{
 "cells": [
  {
   "cell_type": "markdown",
   "metadata": {},
   "source": [
    "### Train Model\n",
    "\n",
    "#### Input\n",
    "* train_X.parquet\n",
    "* train_Y.parquet\n",
    "* test_X.parquet\n",
    "* test_Y.parquet\n",
    "\n",
    "#### Output\n",
    "* params\n",
    "* metrics\n",
    "* model"
   ]
  },
  {
   "cell_type": "code",
   "execution_count": 1,
   "metadata": {},
   "outputs": [],
   "source": [
    "import os\n",
    "import time\n",
    "import pandas as pd\n",
    "import numpy as np\n",
    "import mlflow\n",
    "import mlflow.sklearn\n",
    "import pyarrow.parquet as pq\n",
    "import argparse\n",
    "import pickle\n",
    "\n",
    "import pyarrow\n",
    "import sklearn\n",
    "import cloudpickle\n",
    "from sklearn.ensemble import RandomForestRegressor\n",
    "from sklearn.metrics import explained_variance_score, mean_squared_error\n",
    "\n",
    "import sys\n",
    "sys.path.insert(1, os.path.dirname(os.getcwd()) + '/code/')\n",
    "from pyfunc import WineQualityRegressionPyfunc\n",
    "\n",
    "# params\n",
    "random_seed = 123\n",
    "percent_train = 0.8\n",
    "method = \"mean\" # {\"mean\", \"median\"}\n",
    "\n",
    "criterion = \"mse\" # {“mse”, “mae”}\n",
    "max_depth = 50"
   ]
  },
  {
   "cell_type": "code",
   "execution_count": 2,
   "metadata": {},
   "outputs": [
    {
     "name": "stdout",
     "output_type": "stream",
     "text": "run: python /Users/chou/Desktop/mlflow_dvc_cookiecutter/DSProjectTemplate_Python/code/a01_LoadData.py\nrun: python /Users/chou/Desktop/mlflow_dvc_cookiecutter/DSProjectTemplate_Python/code/a02_SplitData.py --random_seed 123 --percent_train 0.8\nrun: python /Users/chou/Desktop/mlflow_dvc_cookiecutter/DSProjectTemplate_Python/code/a03_CreateEncoder.py --method mean\nrun: python /Users/chou/Desktop/mlflow_dvc_cookiecutter/DSProjectTemplate_Python/code/a04_PrepareDataForModel.py\n"
    }
   ],
   "source": [
    "# file and directory info\n",
    "project_dir = os.path.dirname(os.getcwd())\n",
    "interim_folder = \"/data/interim/\"\n",
    "processed_folder = \"/data/processed/\"\n",
    "src_folder = \"/code/\"\n",
    "\n",
    "# functions\n",
    "def eval_metrics(actual, pred):\n",
    "    exp_var = explained_variance_score(actual, pred)\n",
    "    mse = mean_squared_error(actual, pred)\n",
    "    return exp_var, mse\n",
    "\n",
    "# LoadData\n",
    "script_path = project_dir + src_folder + \"a01_LoadData.py\" \n",
    "print('run: ' + f'python {script_path}')\n",
    "os.system(f'python {script_path}')\n",
    "\n",
    "# SplitData\n",
    "script_path = project_dir + src_folder + \"a02_SplitData.py\" \n",
    "print('run: ' + f'python {script_path} --random_seed {random_seed} --percent_train {percent_train}')\n",
    "os.system(f'python {script_path} --random_seed {random_seed} --percent_train {percent_train}')\n",
    "\n",
    "# CreateEncoder\n",
    "script_path = project_dir + src_folder + \"a03_CreateEncoder.py\" \n",
    "print('run: ' + f'python {script_path} --method {method}')\n",
    "os.system(f'python {script_path} --method {method}')\n",
    "\n",
    "\n",
    "# PrepareDataForModel\n",
    "script_path = project_dir + src_folder + \"a04_PrepareDataForModel.py\" \n",
    "print('run: ' + f'python {script_path}')\n",
    "os.system(f'python {script_path}')\n",
    "\n",
    "# Train\n",
    "train_X = pd.read_parquet(project_dir + interim_folder + 'train_X.parquet')\n",
    "train_Y = pd.read_parquet(project_dir + interim_folder + 'train_Y.parquet')\n",
    "test_X = pd.read_parquet(project_dir + interim_folder + 'test_X.parquet')\n",
    "test_Y = pd.read_parquet(project_dir + interim_folder + 'test_Y.parquet')\n"
   ]
  },
  {
   "cell_type": "code",
   "execution_count": 3,
   "metadata": {},
   "outputs": [
    {
     "name": "stdout",
     "output_type": "stream",
     "text": "MLFLOW_TRACKING_URI = localhost\nrun_id: 6fd24b8fd4154df8bd2c1a8794871001\nDecisionTreeRegressor model (criterion=mse, max_depth=50.000000):\n  Explained Variance Score : 0.49517286430682783\n  MSE: 0.013445725000000009\n"
    }
   ],
   "source": [
    "with mlflow.start_run():\n",
    "    # print some info\n",
    "    uri = os.getenv('MLFLOW_TRACKING_URI')\n",
    "    if uri == None:\n",
    "        uri = 'localhost'\n",
    "    print('MLFLOW_TRACKING_URI = ' + uri)\n",
    "    print('run_id: ' + mlflow.active_run().info.run_id)\n",
    "    \n",
    "    # train a model \n",
    "    tic = time.time()\n",
    "    model = RandomForestRegressor(criterion = criterion, max_depth = max_depth)\n",
    "    model = model.fit(train_X, train_Y.values.ravel())\n",
    "    duration_training = time.time() - tic\n",
    "    # save model as pickle to local as pickle\n",
    "    model_path = 'model.pkl'\n",
    "    pickle.dump(model, open(model_path, 'wb'))\n",
    "\n",
    "    # make prediction on test dataset\n",
    "    tic1 = time.time()\n",
    "    test_pred = model.predict(test_X)\n",
    "    duration_prediction = time.time() - tic1\n",
    "    \n",
    "    (exp_var, mse) = eval_metrics(test_Y, test_pred)\n",
    "    print(\"DecisionTreeRegressor model (criterion=%s, max_depth=%f):\" % (criterion, max_depth))\n",
    "    print(\"  Explained Variance Score : %s\" % exp_var)\n",
    "    print(\"  MSE: %s\" % mse)\n",
    "    \n",
    "    params = {\n",
    "        \"random_seed\" : random_seed,\n",
    "        \"percent_train\" : percent_train,\n",
    "        \"method\" : method, \n",
    "        \"criterion\" : criterion, \n",
    "        \"max_depth\" : max_depth\n",
    "    }\n",
    "    mlflow.log_params(params)\n",
    "\n",
    "    metrics = {\n",
    "        \"exp_var\" : exp_var,\n",
    "        \"mse\" : mse,\n",
    "        \"duration_training\" : duration_training,\n",
    "        \"duration_prediction\" : duration_prediction\n",
    "    }\n",
    "    mlflow.log_metrics(metrics)\n",
    "\n",
    "    conda_env = {\n",
    "            'channels': ['defaults', 'conda-forge', 'r'],\n",
    "            'dependencies': ['python=3.7.6', \n",
    "                             {'pip': [\n",
    "                'scikit-learn=={}'.format(sklearn.__version__),\n",
    "                'mlflow=={}'.format(mlflow.__version__),\n",
    "                'cloudpickle=={}'.format(cloudpickle.__version__),\n",
    "                'pyarrow=={}'.format(pyarrow.__version__)\n",
    "            ]}],\n",
    "            'name': 'pyfunc-env'}  \n",
    "\n",
    "    artifact_path = \"model\"        \n",
    "    mlflow.pyfunc.log_model(artifact_path=artifact_path, \n",
    "                            python_model=WineQualityRegressionPyfunc(),\n",
    "                            conda_env=conda_env, \n",
    "                            artifacts = { \"model\": model_path, \n",
    "                                          \"preprocessor_X\": project_dir + processed_folder + 'preprocessor_X.pkl', \n",
    "                                          \"preprocessor_Y\": project_dir + processed_folder + 'preprocessor_Y.pkl'},\n",
    "                            code_path = [project_dir + src_folder + \"pyfunc.py\"] \n",
    "                           )\n",
    "    \n",
    "     # delete the model in local directory\n",
    "    if os.path.exists(model_path):\n",
    "      os.remove(model_path)\n",
    "    else:\n",
    "      print(\"The file does not exist\")\n",
    "        \n",
    "    mlflow.end_run()"
   ]
  },
  {
   "cell_type": "code",
   "execution_count": 4,
   "metadata": {},
   "outputs": [
    {
     "data": {
      "text/plain": "(0.49517286430682783, 0.013445725000000009)"
     },
     "execution_count": 4,
     "metadata": {},
     "output_type": "execute_result"
    }
   ],
   "source": [
    "(exp_var, mse)"
   ]
  }
 ],
 "metadata": {
  "kernelspec": {
   "display_name": "python3 (template_python)",
   "language": "python",
   "name": "template_python"
  },
  "language_info": {
   "codemirror_mode": {
    "name": "ipython",
    "version": 3
   },
   "file_extension": ".py",
   "mimetype": "text/x-python",
   "name": "python",
   "nbconvert_exporter": "python",
   "pygments_lexer": "ipython3",
   "version": "3.7.6-final"
  }
 },
 "nbformat": 4,
 "nbformat_minor": 4
}